{
 "cells": [
  {
   "cell_type": "markdown",
   "metadata": {},
   "source": [
    "# Document Title\n",
    "## Date : 30 May 2019\n",
    "\n",
    "### Session Objectives\n",
    "* To introduce **Jupyter** Notebooks\n",
    "* To learn ***markdown*** syntax\n",
    "* To introduce Python basics\n",
    "  * Basic Syntax(Variables,Assignment,Data Types)\n",
    "  * Control Structures\n",
    "    * Conditional\n",
    "    * Repetitive\n",
    "    \n",
    "    \n",
    "<img src='Python-Logo.png'/>\n",
    "\n",
    "[Link to My Website](https://sites.google.com/view/svck-python-may-2019/home)"
   ]
  },
  {
   "cell_type": "markdown",
   "metadata": {},
   "source": [
    "### Python Basics"
   ]
  },
  {
   "cell_type": "code",
   "execution_count": 12,
   "metadata": {},
   "outputs": [
    {
     "name": "stdout",
     "output_type": "stream",
     "text": [
      "Hello World !\n",
      "Hello World\n",
      "Hello World  "
     ]
    }
   ],
   "source": [
    "print(\"Hello World !\")\n",
    "print(\"Hello\", \"World\")\n",
    "print(\"Hello\", \"World \",end=\" \")\n",
    "print(\"Hello\"+\"World \")\n",
    "# This is a comment"
   ]
  },
  {
   "cell_type": "code",
   "execution_count": 15,
   "metadata": {},
   "outputs": [
    {
     "name": "stdout",
     "output_type": "stream",
     "text": [
      "Enter a value7892\n",
      "7892\n",
      "\n",
      " 7892\n"
     ]
    }
   ],
   "source": [
    "#Thus is a comment\n",
    "\n",
    "n = input(\"Enter a value\")\n",
    "print(n)\n",
    "print('\\n',n)"
   ]
  },
  {
   "cell_type": "code",
   "execution_count": 20,
   "metadata": {},
   "outputs": [
    {
     "data": {
      "text/plain": [
       "-124273278.00974818"
      ]
     },
     "execution_count": 20,
     "metadata": {},
     "output_type": "execute_result"
    }
   ],
   "source": [
    "n = int(n) # Type conversion to integer and reassign\n",
    "n*n\n",
    "n * n / 1231 - 124323874"
   ]
  },
  {
   "cell_type": "code",
   "execution_count": 23,
   "metadata": {},
   "outputs": [
    {
     "name": "stdout",
     "output_type": "stream",
     "text": [
      "7892 7892 7892\n"
     ]
    }
   ],
   "source": [
    "a = b = c = n # Assigning single Multi Variables\n",
    "\n",
    "a\n",
    "\n",
    "print(a,b,c)"
   ]
  },
  {
   "cell_type": "code",
   "execution_count": 24,
   "metadata": {},
   "outputs": [
    {
     "data": {
      "text/plain": [
       "7892"
      ]
     },
     "execution_count": 24,
     "metadata": {},
     "output_type": "execute_result"
    }
   ],
   "source": [
    "a = b = c = n\n",
    "a\n",
    "\n",
    "b\n",
    "\n",
    "c"
   ]
  },
  {
   "cell_type": "code",
   "execution_count": 33,
   "metadata": {},
   "outputs": [
    {
     "name": "stdout",
     "output_type": "stream",
     "text": [
      "7892 7892 7892\n",
      "7892 7892 \t 7892\n",
      "123 <class 'int'> 234 456\n"
     ]
    }
   ],
   "source": [
    "a = b = c = n\n",
    "\n",
    "print(a,b,c)\n",
    "print(a,b,'\\t',c)\n",
    "\n",
    "a\n",
    "\n",
    "b\n",
    "\n",
    "c\n",
    "d, e, f = 123,234,456 # Assigning multiple values to multiple variables\n",
    "print(d,type(d), e, f)"
   ]
  },
  {
   "cell_type": "code",
   "execution_count": 31,
   "metadata": {},
   "outputs": [
    {
     "data": {
      "text/plain": [
       "str"
      ]
     },
     "execution_count": 31,
     "metadata": {},
     "output_type": "execute_result"
    }
   ],
   "source": [
    "type(n)\n",
    "type(c)\n",
    "c = str(c)\n",
    "type(c)"
   ]
  },
  {
   "cell_type": "code",
   "execution_count": 35,
   "metadata": {},
   "outputs": [
    {
     "name": "stdout",
     "output_type": "stream",
     "text": [
      "<class 'str'>\n",
      "<class 'float'>\n"
     ]
    }
   ],
   "source": [
    "#type conversions\n",
    "c=str(c)\n",
    "print(type(c))\n",
    "c=float(c)\n",
    "print(type(c))"
   ]
  },
  {
   "cell_type": "markdown",
   "metadata": {},
   "source": [
    "### String Slicing\n"
   ]
  },
  {
   "cell_type": "code",
   "execution_count": 45,
   "metadata": {},
   "outputs": [
    {
     "name": "stdout",
     "output_type": "stream",
     "text": [
      "P\n",
      "g\n",
      "g\n",
      "n\n",
      "Python\n",
      "Programming\n",
      "Programming\n",
      "Python\n"
     ]
    }
   ],
   "source": [
    "s1 = 'Python Programming'\n",
    "print(s1[0])# To access first character\n",
    "print(s1[-1]) # To access last character\n",
    "print(s1[len(s1)-1])\n",
    "print(s1[len(s1)-2])\n",
    "print(s1[0:6])#To access first 6 characters\n",
    "print(s1[7:len(s1)])\n",
    "print(s1[7:])#when we leave blank after colon it will goes to end of the string\n",
    "print(s1[:6])#when we leave blank before colon it will start from beginning of the string"
   ]
  },
  {
   "cell_type": "code",
   "execution_count": 46,
   "metadata": {},
   "outputs": [
    {
     "data": {
      "text/plain": [
       "'gnimmargorP nohtyP'"
      ]
     },
     "execution_count": 46,
     "metadata": {},
     "output_type": "execute_result"
    }
   ],
   "source": [
    "# Reverse of a string\n",
    "s1[::-1]# :: represents to print entire string , -1 represents in reverse order "
   ]
  },
  {
   "cell_type": "code",
   "execution_count": 50,
   "metadata": {},
   "outputs": [
    {
     "data": {
      "text/plain": [
       "'gnimmargorP'"
      ]
     },
     "execution_count": 50,
     "metadata": {},
     "output_type": "execute_result"
    }
   ],
   "source": [
    "#Reverse of a substring\n",
    "s1[-1:6:-1]"
   ]
  },
  {
   "cell_type": "code",
   "execution_count": 51,
   "metadata": {},
   "outputs": [
    {
     "data": {
      "text/plain": [
       "'nohtyP'"
      ]
     },
     "execution_count": 51,
     "metadata": {},
     "output_type": "execute_result"
    }
   ],
   "source": [
    "s1[5::-1] # Reverse of a substring"
   ]
  },
  {
   "cell_type": "code",
   "execution_count": 54,
   "metadata": {},
   "outputs": [
    {
     "data": {
      "text/plain": [
       "'987654'"
      ]
     },
     "execution_count": 54,
     "metadata": {},
     "output_type": "execute_result"
    }
   ],
   "source": [
    "s2 = '123456789'\n",
    "s2[-1:2:-1] # Reverse of the last len(s2) - 3 chracters"
   ]
  },
  {
   "cell_type": "code",
   "execution_count": 55,
   "metadata": {},
   "outputs": [
    {
     "data": {
      "text/plain": [
       "'654'"
      ]
     },
     "execution_count": 55,
     "metadata": {},
     "output_type": "execute_result"
    }
   ],
   "source": [
    "s2[5:2:-1] # Reverse of characters from index 5 to index 3"
   ]
  },
  {
   "cell_type": "code",
   "execution_count": 58,
   "metadata": {},
   "outputs": [
    {
     "data": {
      "text/plain": [
       "'13579'"
      ]
     },
     "execution_count": 58,
     "metadata": {},
     "output_type": "execute_result"
    }
   ],
   "source": [
    "s2[0::2] # Accessing alternate characters"
   ]
  },
  {
   "cell_type": "code",
   "execution_count": 60,
   "metadata": {},
   "outputs": [
    {
     "data": {
      "text/plain": [
       "'97531'"
      ]
     },
     "execution_count": 60,
     "metadata": {},
     "output_type": "execute_result"
    }
   ],
   "source": [
    "s2[-1::-2] # Alternate characters in reverse order"
   ]
  },
  {
   "cell_type": "markdown",
   "metadata": {},
   "source": [
    "### Functions in Python"
   ]
  },
  {
   "cell_type": "code",
   "execution_count": 63,
   "metadata": {},
   "outputs": [
    {
     "name": "stdout",
     "output_type": "stream",
     "text": [
      "987654321\n",
      "gnimmargorP nohtyP\n"
     ]
    },
    {
     "data": {
      "text/plain": [
       "'987654321'"
      ]
     },
     "execution_count": 63,
     "metadata": {},
     "output_type": "execute_result"
    }
   ],
   "source": [
    "def reverseString(s):\n",
    "    return s[::-1]\n",
    "print(reverseString(s2))\n",
    "print(reverseString(s1))\n",
    "reverseString(s2)"
   ]
  },
  {
   "cell_type": "code",
   "execution_count": 68,
   "metadata": {},
   "outputs": [
    {
     "data": {
      "text/plain": [
       "'cba'"
      ]
     },
     "execution_count": 68,
     "metadata": {},
     "output_type": "execute_result"
    }
   ],
   "source": [
    "#Function to reverse a substring\n",
    "def reverseSubstring(s,i,j):\n",
    "    sub = s[i:j+1]\n",
    "    return sub[::-1]\n",
    "reverseSubstring('abcde',0,2)"
   ]
  },
  {
   "cell_type": "markdown",
   "metadata": {},
   "source": [
    "### Conditional Control Structures"
   ]
  },
  {
   "cell_type": "code",
   "execution_count": 86,
   "metadata": {},
   "outputs": [
    {
     "data": {
      "text/plain": [
       "True"
      ]
     },
     "execution_count": 86,
     "metadata": {},
     "output_type": "execute_result"
    }
   ],
   "source": [
    "# Function to test divisibility by 9 and 11 and not 10\n",
    "def divisibilityTest(n):\n",
    "    if n % 9 == 0 and n % 11 == 0 and n % 10!= 0:\n",
    "        return True\n",
    "    else:\n",
    "        return False\n",
    "    \n",
    "divisibilityTest(990)\n",
    "divisibilityTest(99)"
   ]
  },
  {
   "cell_type": "code",
   "execution_count": 87,
   "metadata": {},
   "outputs": [
    {
     "data": {
      "text/plain": [
       "8"
      ]
     },
     "execution_count": 87,
     "metadata": {},
     "output_type": "execute_result"
    }
   ],
   "source": [
    "# Recursive Function for a power n\n",
    "def Power(a,n):\n",
    "    if n ==0 :\n",
    "        return 1 \n",
    "    else:\n",
    "        return a * Power(a,n-1)\n",
    "Power(2,3)"
   ]
  },
  {
   "cell_type": "code",
   "execution_count": 94,
   "metadata": {},
   "outputs": [
    {
     "name": "stdout",
     "output_type": "stream",
     "text": [
      "Enter a string to find palindromeLIRIL\n",
      "Given string is palindrome\n"
     ]
    }
   ],
   "source": [
    "#Palindrome\n",
    "s = input(\"Enter a string to find palindrome\")\n",
    "\n",
    "if(s == s[::-1]):\n",
    "    print(\"Given string is palindrome\")\n",
    "else:\n",
    "    print(\"Given string is not palindrome\")   "
   ]
  },
  {
   "cell_type": "markdown",
   "metadata": {},
   "source": [
    "### Iteration in Python"
   ]
  },
  {
   "cell_type": "code",
   "execution_count": null,
   "metadata": {},
   "outputs": [],
   "source": [
    "#Function to determine all numbers divisible by 7 in a given range[lb,ub]\n",
    "\n",
    "def divisible(lb,ub):\n",
    "    for i in range(lb,ub + 1):\n",
    "        if(i % 7 == 0):\n",
    "            print(i)\n",
    "    return\n",
    "divisible(1,70)"
   ]
  },
  {
   "cell_type": "code",
   "execution_count": 1,
   "metadata": {},
   "outputs": [
    {
     "name": "stdout",
     "output_type": "stream",
     "text": [
      "2 3 5 7 11 13 17 19 23 29 31 37 41 43 47 53 59 61 67 71 73 79 83 89 97 101 103 107 109 113 127 131 137 139 149 151 157 163 167 173 179 181 191 193 197 199 211 223 227 229 233 239 241 251 257 263 269 271 277 281 283 293 307 311 313 317 331 337 347 349 353 359 367 373 379 383 389 397 401 409 419 421 431 433 439 443 449 457 461 463 467 479 487 491 499 503 509 521 523 541 "
     ]
    }
   ],
   "source": [
    "#Function to generate n prime numbers\n",
    "\n",
    "from math import sqrt , floor\n",
    "def isFactor(div,divs):\n",
    "    if(div % divs == 0):\n",
    "        return True\n",
    "    return False\n",
    "\n",
    "def isPrime(n):\n",
    "    for i in range(2, floor(sqrt(n)) + 1):\n",
    "        if isFactor(n,i):\n",
    "            return False\n",
    "    return True\n",
    "    \n",
    "def genPrimes(k):\n",
    "    PrimeCounter = 0\n",
    "    SeqCounter = 2\n",
    "    while PrimeCounter < k:\n",
    "        if isPrime(SeqCounter):\n",
    "            print(SeqCounter,end = ' ')\n",
    "            PrimeCounter += 1\n",
    "        SeqCounter += 1\n",
    "            \n",
    "genPrimes(100)"
   ]
  },
  {
   "cell_type": "markdown",
   "metadata": {},
   "source": [
    "### Higher Order Computation"
   ]
  },
  {
   "cell_type": "code",
   "execution_count": 5,
   "metadata": {},
   "outputs": [
    {
     "name": "stdout",
     "output_type": "stream",
     "text": [
      "<class 'int'>\n"
     ]
    },
    {
     "data": {
      "text/plain": [
       "888353"
      ]
     },
     "execution_count": 5,
     "metadata": {},
     "output_type": "execute_result"
    }
   ],
   "source": [
    "num = 987654321 ** 98765\n",
    "print(type(num))\n",
    "len(str(num))\n"
   ]
  },
  {
   "cell_type": "markdown",
   "metadata": {},
   "source": [
    "### Python List"
   ]
  },
  {
   "cell_type": "code",
   "execution_count": 59,
   "metadata": {},
   "outputs": [
    {
     "name": "stdout",
     "output_type": "stream",
     "text": [
      "[1, 2, 3, 4, 5, 6, 'Python', 5.6]\n",
      "5.6\n",
      "Python\n",
      "6\n",
      "P\n",
      "y\n",
      "t\n",
      "Fayaz\n",
      "23\n",
      "56\n",
      "[1, 2, 3, 4, 5, 6, 'Python', 'Fayaz', [23, 34, 56]]\n",
      "[2, 3, 4, 5, 6, 'Python', 'Fayaz', [23, 34, 56]]\n",
      "[2, 3, 4, 5, 6, 'Python', 'Fayaz']\n",
      "[2, 3, 5, 6, 'Python', 'Fayaz']\n",
      "[2, 3, 5, 6, 'Python', 'Fayaz', 7, 8, 9]\n",
      "[2, 4, 5, 6, 8, 10]\n",
      "[10, 8, 6, 5, 4, 2]\n"
     ]
    }
   ],
   "source": [
    "li = [1,2,3,4,5,6,'Python',5.6]\n",
    "\n",
    "print(li)\n",
    "\n",
    "print(li[-1])\n",
    "print(li[-2])\n",
    "print(li[-3])\n",
    "print(li[6][0])\n",
    "#List Index starts from 0\n",
    "print(li[6][1])\n",
    "print(li[6][2])\n",
    "li.append(\"Fayaz\")\n",
    "print(li[-1])\n",
    "li.append([23,34,56])\n",
    "print(li[-1][0])\n",
    "print(li[-1][2])\n",
    "li.remove(5.6)\n",
    "print(li)\n",
    "li.remove(li[0])\n",
    "print(li)\n",
    "li.pop()#removes last item\n",
    "print(li)\n",
    "li.pop(2)#removes element at 2nd position\n",
    "print(li)\n",
    "li2 = [7,8,9]\n",
    "li.extend(li2)#Merges two lists\n",
    "print(li)\n",
    "# li.sort(reverse=True) Not supported between instances of 'str' and 'int'\n",
    "\n",
    "li3 = [10,4,2,6,8,5]\n",
    "li3.sort()#sorts in ascending order\n",
    "print(li3)\n",
    "li3.sort(reverse=True)#sorts in descending order\n",
    "print(li3)"
   ]
  },
  {
   "cell_type": "markdown",
   "metadata": {},
   "source": [
    "# "
   ]
  }
 ],
 "metadata": {
  "kernelspec": {
   "display_name": "Python 3",
   "language": "python",
   "name": "python3"
  },
  "language_info": {
   "codemirror_mode": {
    "name": "ipython",
    "version": 3
   },
   "file_extension": ".py",
   "mimetype": "text/x-python",
   "name": "python",
   "nbconvert_exporter": "python",
   "pygments_lexer": "ipython3",
   "version": "3.7.3"
  }
 },
 "nbformat": 4,
 "nbformat_minor": 2
}
