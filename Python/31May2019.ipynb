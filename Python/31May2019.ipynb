{
 "cells": [
  {
   "cell_type": "markdown",
   "metadata": {},
   "source": [
    "# Session Objectives\n",
    "* Tuples\n",
    "* Dictionaries\n",
    "* Iterators and Generators\n",
    "* Regular Expressions\n",
    "* Date Arithmetic\n",
    "* Functional Programming"
   ]
  },
  {
   "cell_type": "markdown",
   "metadata": {},
   "source": [
    "### Python Tuples"
   ]
  },
  {
   "cell_type": "code",
   "execution_count": 2,
   "metadata": {},
   "outputs": [
    {
     "name": "stdout",
     "output_type": "stream",
     "text": [
      "(1001, 'name', 72, 90)\n"
     ]
    }
   ],
   "source": [
    "t1 = (1001,'name',72,90)\n",
    "print(t1)"
   ]
  },
  {
   "cell_type": "code",
   "execution_count": 4,
   "metadata": {},
   "outputs": [
    {
     "data": {
      "text/plain": [
       "1001"
      ]
     },
     "execution_count": 4,
     "metadata": {},
     "output_type": "execute_result"
    }
   ],
   "source": [
    "t1[0]"
   ]
  },
  {
   "cell_type": "code",
   "execution_count": 5,
   "metadata": {},
   "outputs": [
    {
     "data": {
      "text/plain": [
       "(72, 90)"
      ]
     },
     "execution_count": 5,
     "metadata": {},
     "output_type": "execute_result"
    }
   ],
   "source": [
    "t1[2:]#from position 2 to last.Pos starts from 0"
   ]
  },
  {
   "cell_type": "code",
   "execution_count": 21,
   "metadata": {},
   "outputs": [
    {
     "name": "stdout",
     "output_type": "stream",
     "text": [
      "25845\n",
      "2 5 8 4 5\n"
     ]
    }
   ],
   "source": [
    "#Accessing all the second digits form the elements\n",
    "t2=(321,654,789098,6453,75456)\n",
    "\n",
    "print(str(t2[0])[1] + str(t2[1])[1] + str(t2[2])[1] + str(t2[3])[1] + str(t2[4])[1])\n",
    "print(str(t2[0])[1] , str(t2[1])[1] , str(t2[2])[1] , str(t2[3])[1] , str(t2[4])[1])"
   ]
  },
  {
   "cell_type": "code",
   "execution_count": 32,
   "metadata": {},
   "outputs": [
    {
     "name": "stdout",
     "output_type": "stream",
     "text": [
      "16.0\n"
     ]
    },
    {
     "data": {
      "text/plain": [
       "174396.4"
      ]
     },
     "execution_count": 32,
     "metadata": {},
     "output_type": "execute_result"
    }
   ],
   "source": [
    "# Average of all elements in a tuple or List(Linear Data Structures)\n",
    "def averageLinearDS(t):\n",
    "    sum = 0\n",
    "    for i in range(0,len(t)):\n",
    "        sum += t[i]\n",
    "    return sum/len(t)\n",
    "li = [12,14,16,18,20]\n",
    "print(averageLinearDS(li))\n",
    "averageLinearDS(t2)"
   ]
  },
  {
   "cell_type": "code",
   "execution_count": 2,
   "metadata": {},
   "outputs": [
    {
     "name": "stdout",
     "output_type": "stream",
     "text": [
      "Enter a key to search45\n"
     ]
    },
    {
     "data": {
      "text/plain": [
       "-1"
      ]
     },
     "execution_count": 2,
     "metadata": {},
     "output_type": "execute_result"
    }
   ],
   "source": [
    "#Lmear Search\n",
    "def SearchLinearDS(ds,key):\n",
    "    for i in range(0,len(ds)):\n",
    "        if(key == ds[i]):\n",
    "            return i\n",
    "    return -1\n",
    "List = (10,20,30,40,50)\n",
    "k = input(\"Enter a key to search\")\n",
    "SearchLinearDS(List,int(k))"
   ]
  },
  {
   "cell_type": "code",
   "execution_count": 66,
   "metadata": {},
   "outputs": [
    {
     "name": "stdout",
     "output_type": "stream",
     "text": [
      "P ,y ,t ,h ,o ,n ,"
     ]
    }
   ],
   "source": [
    "s = \"Python\"\n",
    "for item in s:\n",
    "    print(item,',',end='')"
   ]
  },
  {
   "cell_type": "code",
   "execution_count": 3,
   "metadata": {},
   "outputs": [
    {
     "data": {
      "text/plain": [
       "28"
      ]
     },
     "execution_count": 3,
     "metadata": {},
     "output_type": "execute_result"
    }
   ],
   "source": [
    "# Maximum element in a DS\n",
    "def maxElement(ds):\n",
    "    maxele = ds[0]\n",
    "    for item in ds:\n",
    "        if(item > maxele):\n",
    "            maxele = item\n",
    "    return maxele\n",
    "li = [1,4,5,8,19,28,15]\n",
    "maxElement(li)\n",
    "           "
   ]
  },
  {
   "cell_type": "markdown",
   "metadata": {},
   "source": [
    "# Dictionaries"
   ]
  },
  {
   "cell_type": "code",
   "execution_count": 17,
   "metadata": {},
   "outputs": [
    {
     "name": "stdout",
     "output_type": "stream",
     "text": [
      "9440778982\n",
      "dict_keys(['Fayaz', 'Naseer', 'Khushnu'])\n",
      "dict_values([9440778982, 9908949714, 9440436072])\n",
      "[9908, 9440]\n",
      "9440\n",
      "{'Fayaz': 9440778982, 'Naseer': 9908949714, 'Khushnu': 9440436072, 'Somai': 9040}\n",
      "{'Fayaz': 9440778982, 'Naseer': 9908949714, 'Khushnu': 9440436072}\n"
     ]
    }
   ],
   "source": [
    "#Dictionaries are heterogeneous . All data structures are heterogeneous\n",
    "d1 = {'Fayaz': 9440778982,'Naseer' : 9908949714,'Khushnu' : 9440436072}\n",
    "print(d1['Fayaz'])\n",
    "print(d1.keys())\n",
    "print(d1.values())\n",
    "d2 = {'Fayaz':[9908,9440],'Khushnu':944043}\n",
    "print(d2['Fayaz'])\n",
    "print(d2['Fayaz'][1])\n",
    "d1['Somai'] = 9040\n",
    "print(d1)\n",
    "d1.pop('Somai')\n",
    "print(d1)"
   ]
  },
  {
   "cell_type": "code",
   "execution_count": 47,
   "metadata": {},
   "outputs": [
    {
     "name": "stdout",
     "output_type": "stream",
     "text": [
      "name1 : 9440778982\n",
      "name2 : 9440778983\n",
      "After Modifying\n",
      "name1 : 9908949714\n",
      "name2 : 9440778983\n",
      "After Deletion\n",
      "name1 : 9908949714\n"
     ]
    }
   ],
   "source": [
    "#Contacts Application\n",
    "#Add ,Display,modify and delete contacts\n",
    "contacts = {}\n",
    "def addContact(d,name,phone):\n",
    "    d[name]=phone\n",
    "    return\n",
    "addContact(contacts,'name1',9440778982)\n",
    "addContact(contacts,'name2',9440778983)\n",
    "\n",
    "def displayContacts(contacts):\n",
    "    for name in contacts:#for name,phone in contacts.items():\n",
    "        print(name , \":\" ,contacts[name])#print(name , \":\" ,phone)\n",
    "    return\n",
    "displayContacts(contacts)\n",
    "def modifyContacts(contacts,name,newphone):\n",
    "    contacts[name]=newphone\n",
    "    return\n",
    "def deleteContacts(contacts,name):\n",
    "    contacts.pop(name)\n",
    "    return\n",
    "modifyContacts(contacts,'name1',9908949714)\n",
    "print(\"After Modifying\")\n",
    "displayContacts(contacts)\n",
    "deleteContacts(contacts,'name2')\n",
    "print(\"After Deletion\")\n",
    "displayContacts(contacts)\n"
   ]
  },
  {
   "cell_type": "code",
   "execution_count": 44,
   "metadata": {},
   "outputs": [
    {
     "name": "stdout",
     "output_type": "stream",
     "text": [
      "name1 : 9440778982\n",
      "name2 : 9440778983\n"
     ]
    }
   ],
   "source": [
    "for name, phone in contacts.items() :\n",
    "    print(name , \":\" ,phone)\n"
   ]
  },
  {
   "cell_type": "code",
   "execution_count": 60,
   "metadata": {},
   "outputs": [
    {
     "name": "stdout",
     "output_type": "stream",
     "text": [
      "4\n",
      "3\n",
      "2\n",
      "1\n"
     ]
    }
   ],
   "source": [
    "li2 = [1,2,3,4]\n",
    "li2 = reversed(li2)\n",
    "for i in li2:\n",
    "    print(i)"
   ]
  },
  {
   "cell_type": "code",
   "execution_count": 56,
   "metadata": {},
   "outputs": [
    {
     "name": "stdout",
     "output_type": "stream",
     "text": [
      "(1, 2, 3, 4)\n"
     ]
    }
   ],
   "source": [
    "li = [1,2,3,4]\n",
    "t = tuple(li)\n",
    "print(t)"
   ]
  },
  {
   "cell_type": "code",
   "execution_count": 57,
   "metadata": {},
   "outputs": [
    {
     "name": "stdout",
     "output_type": "stream",
     "text": [
      "[1, 2, 3, 4]\n"
     ]
    }
   ],
   "source": [
    "t = (1,2,3,4)\n",
    "l = list(t)\n",
    "print(l)"
   ]
  },
  {
   "cell_type": "code",
   "execution_count": 58,
   "metadata": {},
   "outputs": [
    {
     "name": "stdout",
     "output_type": "stream",
     "text": [
      "0 : 1\n",
      "1 : 2\n",
      "2 : 3\n",
      "3 : 4\n"
     ]
    }
   ],
   "source": [
    "li = [1,2,3,4]\n",
    "for i, value in enumerate(li):\n",
    "    print(i,':',value)"
   ]
  },
  {
   "cell_type": "code",
   "execution_count": 63,
   "metadata": {},
   "outputs": [
    {
     "name": "stdout",
     "output_type": "stream",
     "text": [
      "1 5\n",
      "2 6\n",
      "3 7\n",
      "4 8\n"
     ]
    }
   ],
   "source": [
    "# zip functions\n",
    "li1=[1,2,3,4]\n",
    "li2=[5,6,7,8]\n",
    "for i, j in zip(li1,li2):\n",
    "    print(i,j)\n",
    "#zip(li1,li2)"
   ]
  },
  {
   "cell_type": "markdown",
   "metadata": {},
   "source": [
    "### Regular Expressions"
   ]
  },
  {
   "cell_type": "markdown",
   "metadata": {},
   "source": [
    "[0-9] RE for all single digits\n",
    "[0,1,2,3 ..... 9]\n",
    "\n",
    "\n",
    "[a-z] RE for all lower case alphabet\n",
    "[A-Z] RE for all upper case alphabet\n",
    "[01] or [0-1] , [0-5] "
   ]
  },
  {
   "cell_type": "code",
   "execution_count": 5,
   "metadata": {},
   "outputs": [],
   "source": [
    "#Function to validate indian phone numbers starting with 9,8,7,6 and have 10 digits\n",
    "#Function to validate college student roll number\n",
    "#function to validate email address\n",
    "#username@domain.extension\n",
    "#username = {string of length 9. can contain digits, _,}alphabet}\n",
    "#domain = (string of 9.can contain digits and alphabet)\n",
    "#extension = {length of 3. only alphabet}"
   ]
  },
  {
   "cell_type": "code",
   "execution_count": 16,
   "metadata": {},
   "outputs": [
    {
     "name": "stdout",
     "output_type": "stream",
     "text": [
      "This is a valid Roll Number\n"
     ]
    }
   ],
   "source": [
    "# Function to validate Roll Number\n",
    "import re\n",
    "def isvalidRollNum(rollnum):\n",
    "    if len(rollnum) == 10:\n",
    "        if re.match(\"[1][5][K][H][1][A][0][1-5][0-6][0-9]\", rollnum) != None:\n",
    "             return True\n",
    "    return False\n",
    "if isvalidRollNum(\"15KH1A0501\") == True :\n",
    "    print(\"This is a valid Roll Number\")\n",
    "else:\n",
    "    print(\"This is not a valid Roll Number\")"
   ]
  },
  {
   "cell_type": "code",
   "execution_count": 31,
   "metadata": {},
   "outputs": [
    {
     "name": "stdout",
     "output_type": "stream",
     "text": [
      "This is a valid Phone Number\n"
     ]
    }
   ],
   "source": [
    "# Function to validate Indian Mobile Number\n",
    "import re\n",
    "def isvalidPhoneNum(phonenum):\n",
    "    if len(phonenum) == 10:\n",
    "        #if re.match(\"[6-9][0-9][0-9][0-9][0-9][0-9][0-9][0-9][0-9][0-9]\", phonenum) != None:\n",
    "        if re.match(\"^[9876][0-9]{9}$\", phonenum) != None:\n",
    "             return True\n",
    "    return False\n",
    "if isvalidPhoneNum(\"6440778982\") == True :\n",
    "    print(\"This is a valid Phone Number\")\n",
    "else:\n",
    "    print(\"This is not a valid Phone Number\")"
   ]
  },
  {
   "cell_type": "code",
   "execution_count": 44,
   "metadata": {},
   "outputs": [
    {
     "data": {
      "text/plain": [
       "True"
      ]
     },
     "execution_count": 44,
     "metadata": {},
     "output_type": "execute_result"
    }
   ],
   "source": [
    "#Function to validate email address\n",
    "import re\n",
    "def emailValidator(email):\n",
    "    pattern = '^[a-z][[a-z0-9_.]{5,14}[@][a-z0-9]{3,12}[.][a-z]{2,3}$'\n",
    "    if re.match(pattern,email):\n",
    "        return True\n",
    "    return False\n",
    "\n",
    "emailValidator(\"fana.fayaz@facebook.com\")"
   ]
  },
  {
   "cell_type": "code",
   "execution_count": 42,
   "metadata": {},
   "outputs": [
    {
     "data": {
      "text/plain": [
       "True"
      ]
     },
     "execution_count": 42,
     "metadata": {},
     "output_type": "execute_result"
    }
   ],
   "source": [
    "#Phone Number Validation\n",
    "import re\n",
    "def phoneNumValidator(phone):\n",
    "    phone = str(phone)\n",
    "    pattern = '^[6-9][0-9]{9}$'\n",
    "    if re.match(pattern,phone):\n",
    "        return True\n",
    "    return False\n",
    "#phoneNumValidator(1234567898)\n",
    "#phoneNumValidator(9908949714)\n",
    "phoneNumValidator(7890001234)"
   ]
  },
  {
   "cell_type": "code",
   "execution_count": 57,
   "metadata": {},
   "outputs": [
    {
     "name": "stdout",
     "output_type": "stream",
     "text": [
      "Introduction to programming concepts with scratch, Scratch environment, sprites looks and motion, Angles and directions, repetition and variation, changing costumes, adding background, Input/Output,  variables and operators. Working with sounds and sprite communication and creating stories, App Generation\n"
     ]
    },
    {
     "data": {
      "text/plain": [
       "['Introduction to programming concepts with scratch',\n",
       " 'Scratch environment',\n",
       " 'sprites looks and motion',\n",
       " 'Angles and directions',\n",
       " 'repetition and variation',\n",
       " 'changing costumes',\n",
       " 'adding background',\n",
       " 'Input/Output',\n",
       " ' variables and operators. Working with sounds and sprite communication and creating stories',\n",
       " 'App Generation']"
      ]
     },
     "execution_count": 57,
     "metadata": {},
     "output_type": "execute_result"
    }
   ],
   "source": [
    "s1 = 'Introduction to programming concepts with scratch, Scratch environment, sprites looks and motion, Angles and directions, repetition and variation, changing costumes, adding background, Input/Output,  variables and operators. Working with sounds and sprite communication and creating stories, App Generation'\n",
    "print(s1)\n",
    "s1 = re.split('[, ][\\ ]',s1)\n",
    "s1"
   ]
  },
  {
   "cell_type": "markdown",
   "metadata": {},
   "source": [
    "### Date & Time Arithmetic"
   ]
  },
  {
   "cell_type": "code",
   "execution_count": 73,
   "metadata": {},
   "outputs": [
    {
     "name": "stdout",
     "output_type": "stream",
     "text": [
      "2019-05-31 17:14:00.076666\n",
      "<class 'datetime.datetime'>\n",
      "2019\n",
      "5\n",
      "31\n",
      "17\n",
      "14\n",
      "0\n",
      "2019-05-31\n"
     ]
    }
   ],
   "source": [
    "import datetime\n",
    "print(datetime.datetime.now())\n",
    "print(type(datetime.datetime.now()))\n",
    "print(datetime.datetime.now().year)\n",
    "print(datetime.datetime.now().month)\n",
    "print(datetime.datetime.now().day)\n",
    "print(datetime.datetime.now().hour)\n",
    "print(datetime.datetime.now().minute)\n",
    "print(datetime.datetime.now().second)\n",
    "print(datetime.date.today())\n"
   ]
  },
  {
   "cell_type": "code",
   "execution_count": 77,
   "metadata": {},
   "outputs": [
    {
     "name": "stdout",
     "output_type": "stream",
     "text": [
      "5 days, 0:00:00\n"
     ]
    }
   ],
   "source": [
    "#difference between two dates\n",
    "import datetime\n",
    "def datediff(date1,date2):\n",
    "    year1 = date1[:4]\n",
    "    year2 = date2[:4]\n",
    "    month1 = date1[5:7]\n",
    "    month2 = date2[5:7]\n",
    "    day1 = date1[8:]\n",
    "    day2 = date2[8:]\n",
    "    date1 = datetime.date(int(year1),int(month1),int(day1))\n",
    "    date2 = datetime.date(int(year2),int(month2),int(day2))\n",
    "    return date2 - date1\n",
    "print(datediff('2019:05:27','2019:06:01'))\n"
   ]
  },
  {
   "cell_type": "code",
   "execution_count": 79,
   "metadata": {},
   "outputs": [
    {
     "data": {
      "text/plain": [
       "False"
      ]
     },
     "execution_count": 79,
     "metadata": {},
     "output_type": "execute_result"
    }
   ],
   "source": [
    "import calendar\n",
    "calendar.isleap(2019)"
   ]
  },
  {
   "cell_type": "code",
   "execution_count": 83,
   "metadata": {},
   "outputs": [
    {
     "data": {
      "text/plain": [
       "True"
      ]
     },
     "execution_count": 83,
     "metadata": {},
     "output_type": "execute_result"
    }
   ],
   "source": [
    "def isLeap(year):\n",
    "    if (year%4==0 and year%100!=0 or year%400==0):\n",
    "        return True\n",
    "    return False\n",
    "isLeap(2020)\n",
    "    "
   ]
  },
  {
   "cell_type": "markdown",
   "metadata": {},
   "source": [
    "### List Comprehensions"
   ]
  },
  {
   "cell_type": "code",
   "execution_count": 88,
   "metadata": {},
   "outputs": [
    {
     "name": "stdout",
     "output_type": "stream",
     "text": [
      "21\n",
      "[0, 1, 2, 3, 4, 5, 6, 7, 8, 9, 10, 11, 12, 13, 14, 15, 16, 17, 18, 19, 20, 21, 22, 23, 24, 25, 26, 27, 28, 29, 30, 31, 32, 33, 34, 35, 36, 37, 38, 39, 40, 41, 42, 43, 44, 45, 46, 47, 48, 49, 50, 51, 52, 53, 54, 55, 56, 57, 58, 59, 60, 61, 62, 63, 64, 65, 66, 67, 68, 69, 70, 71, 72, 73, 74, 75, 76, 77, 78, 79, 80, 81, 82, 83, 84, 85, 86, 87, 88, 89, 90, 91, 92, 93, 94, 95, 96, 97, 98, 99, 100, 101, 102, 103, 104, 105, 106, 107, 108, 109, 110, 111, 112, 113, 114, 115, 116, 117, 118, 119, 120, 121, 122]\n",
      "36\n",
      "45\n"
     ]
    }
   ],
   "source": [
    "li = [1,2,3,4,5,6]\n",
    "print(sum(li))\n",
    "n=123\n",
    "sum(range(123))\n",
    "print(list(range(123)))\n",
    "print(sum(list(range(9))))\n",
    "print(sum(list(range(9+1))))\n"
   ]
  },
  {
   "cell_type": "code",
   "execution_count": 93,
   "metadata": {},
   "outputs": [
    {
     "data": {
      "text/plain": [
       "22.4682781862041"
      ]
     },
     "execution_count": 93,
     "metadata": {},
     "output_type": "execute_result"
    }
   ],
   "source": [
    "#calculate sum of square root of n natural numbers\n",
    "from math import sqrt\n",
    "\n",
    "def sqrtNnaturalnums(n):\n",
    "    return sum([sqrt(i) for i in list(range(1,n+1))])\n",
    "\n",
    "sqrtNnaturalnums(10)"
   ]
  },
  {
   "cell_type": "code",
   "execution_count": 94,
   "metadata": {},
   "outputs": [
    {
     "data": {
      "text/plain": [
       "[1, 4, 9, 16, 25, 36]"
      ]
     },
     "execution_count": 94,
     "metadata": {},
     "output_type": "execute_result"
    }
   ],
   "source": [
    "li = [1,2,3,4,5,6]\n",
    "\n",
    "def squareoflistele(li):\n",
    "    return [i ** 2 for i in li]\n",
    "squareoflistele(li)"
   ]
  },
  {
   "cell_type": "code",
   "execution_count": 98,
   "metadata": {},
   "outputs": [
    {
     "data": {
      "text/plain": [
       "[9, 18, 27]"
      ]
     },
     "execution_count": 98,
     "metadata": {},
     "output_type": "execute_result"
    }
   ],
   "source": [
    "# values which are divisible by 9 \n",
    "li = [9,21,18,27,14]\n",
    "\n",
    "def divisible9(li):\n",
    "    return [i for i in li if i % 9 ==0 ]\n",
    "divisible9(li)"
   ]
  },
  {
   "cell_type": "code",
   "execution_count": 100,
   "metadata": {},
   "outputs": [
    {
     "data": {
      "text/plain": [
       "[1980, 1984, 1988, 1992, 1996, 2000, 2004, 2008, 2012, 2016]"
      ]
     },
     "execution_count": 100,
     "metadata": {},
     "output_type": "execute_result"
    }
   ],
   "source": [
    "li = list(range(1979,2019))\n",
    "\n",
    "def isleapyear(li):\n",
    "    return [i for i in li if i%4==0 and i%100!=0 or i%400==0]\n",
    "isleapyear(li)"
   ]
  },
  {
   "cell_type": "markdown",
   "metadata": {},
   "source": [
    "### Maps\n",
    "Map is a concept where functions are passed as parameters to data structure: Maps function to an iterable object"
   ]
  },
  {
   "cell_type": "code",
   "execution_count": 110,
   "metadata": {},
   "outputs": [
    {
     "name": "stdout",
     "output_type": "stream",
     "text": [
      "<map object at 0x00000003502C92B0>\n",
      "[1, 8, 27, 64, 125, 216]\n",
      "441\n",
      "441\n"
     ]
    }
   ],
   "source": [
    "#Function to calculate cube of all numbers in a list\n",
    "li = [1,2,3,4,5,6]\n",
    "def cube(n):\n",
    "    return n ** 3\n",
    "print(map(cube,li))\n",
    "print(list(map(cube,li)))\n",
    "print(sum(list(map(cube,li))))\n",
    "print(sum(cube(i) for i in li))"
   ]
  },
  {
   "cell_type": "code",
   "execution_count": 119,
   "metadata": {},
   "outputs": [
    {
     "data": {
      "text/plain": [
       "[1, 2, 3]"
      ]
     },
     "execution_count": 119,
     "metadata": {},
     "output_type": "execute_result"
    }
   ],
   "source": [
    "# Function to convert number into words\n",
    "def listofDigits(n):\n",
    "    d1 = {1:'one',2:'two',3:'three',4:'four'}\n",
    "    digit = []\n",
    "    i = 0\n",
    "    while(n!=0):\n",
    "        digit.append(n % 10 )\n",
    "        n = n // 10\n",
    "        i += 1\n",
    "    return digit[-1::-1]\n",
    "def numberTowords(n):\n",
    "    digits = listofDigits(n)\n",
    "    dictDigits = {1:'one',2:'two',3:'three',4:'four'}\n",
    "    placeholders = {0:'units',1:'tens',2:'hundreds',3:'thousands'}\n",
    "    for i in range(0,len(digits)):\n",
    "        \n",
    "    return digits\n",
    "numberTowords(123)"
   ]
  },
  {
   "cell_type": "code",
   "execution_count": null,
   "metadata": {},
   "outputs": [],
   "source": [
    "\n"
   ]
  }
 ],
 "metadata": {
  "kernelspec": {
   "display_name": "Python 3",
   "language": "python",
   "name": "python3"
  },
  "language_info": {
   "codemirror_mode": {
    "name": "ipython",
    "version": 3
   },
   "file_extension": ".py",
   "mimetype": "text/x-python",
   "name": "python",
   "nbconvert_exporter": "python",
   "pygments_lexer": "ipython3",
   "version": "3.7.3"
  }
 },
 "nbformat": 4,
 "nbformat_minor": 2
}
