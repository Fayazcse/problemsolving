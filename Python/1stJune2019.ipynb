{
 "cells": [
  {
   "cell_type": "markdown",
   "metadata": {},
   "source": [
    "### Day Objectives\n",
    "* Packages and Modules in Python\n",
    "* Turtle Graphics\n",
    "* File Handling\n",
    "* Python Libraries for Data Processing,Analysis,Visualization and \n",
    "    * ***NumPy*** - Array Processing\n",
    "    * ***Pandas*** - Data Analysis\n",
    "    * ***Matlotlib*** Data Visualization\n",
    "    * ***Scikit-learn*** -Machine Learning"
   ]
  },
  {
   "cell_type": "markdown",
   "metadata": {},
   "source": [
    "### Packages and Modules\n",
    "\n",
    "Package - Collection of python files(Modules)\n",
    "\n",
    "Subpackage - Collection of Subpackages or Modules\n",
    "\n",
    "Module - Single Python File consisting of functions or classes\n",
    "\n",
    "Function - Logical block of code which is defined to do a task\n"
   ]
  },
  {
   "cell_type": "code",
   "execution_count": 4,
   "metadata": {},
   "outputs": [
    {
     "name": "stdout",
     "output_type": "stream",
     "text": [
      "128\n"
     ]
    }
   ],
   "source": [
    "# Accessing the Basic module in Numerical Package\n",
    "import numerical.basic\n",
    "\n",
    "print(numerical.basic.Power(2,7))"
   ]
  },
  {
   "cell_type": "code",
   "execution_count": 5,
   "metadata": {},
   "outputs": [
    {
     "data": {
      "text/plain": [
       "True"
      ]
     },
     "execution_count": 5,
     "metadata": {},
     "output_type": "execute_result"
    }
   ],
   "source": [
    "import numerical.basic as b\n",
    "b.divisibilityTest(9999)"
   ]
  },
  {
   "cell_type": "code",
   "execution_count": 7,
   "metadata": {},
   "outputs": [
    {
     "data": {
      "text/plain": [
       "100"
      ]
     },
     "execution_count": 7,
     "metadata": {},
     "output_type": "execute_result"
    }
   ],
   "source": [
    "from numerical.basic import Power \n",
    "Power(10,2)"
   ]
  },
  {
   "cell_type": "code",
   "execution_count": 8,
   "metadata": {},
   "outputs": [
    {
     "data": {
      "text/plain": [
       "100"
      ]
     },
     "execution_count": 8,
     "metadata": {},
     "output_type": "execute_result"
    }
   ],
   "source": [
    "from numerical import basic as a \n",
    "a.Power(10,2)"
   ]
  },
  {
   "cell_type": "code",
   "execution_count": 10,
   "metadata": {},
   "outputs": [
    {
     "data": {
      "text/plain": [
       "100"
      ]
     },
     "execution_count": 10,
     "metadata": {},
     "output_type": "execute_result"
    }
   ],
   "source": [
    "from numerical.basic import Power as P\n",
    "P(10,2)"
   ]
  },
  {
   "cell_type": "markdown",
   "metadata": {},
   "source": [
    "### Turtle Graphics"
   ]
  },
  {
   "cell_type": "code",
   "execution_count": 1,
   "metadata": {},
   "outputs": [],
   "source": [
    "import turtle as t\n",
    "wn = t.Screen() #creates a Turtle graphics screen\n",
    "t1 = t.Turtle() #creates a Turtle object\n",
    "\n",
    "t1.forward(90)\n",
    "\n",
    "t1.right(90)\n",
    "t1.forward(90)\n",
    "\n",
    "t1.right(90)\n",
    "t1.forward(90)\n",
    "\n",
    "t1.right(90)\n",
    "t1.forward(90)\n",
    "\n",
    "t1.right(90)\n",
    "t1.forward(90)\n",
    "\n",
    "wn.mainloop()"
   ]
  },
  {
   "cell_type": "markdown",
   "metadata": {},
   "source": [
    "### File Handling"
   ]
  },
  {
   "cell_type": "code",
   "execution_count": 24,
   "metadata": {},
   "outputs": [
    {
     "data": {
      "text/plain": [
       "'\\nCourse Objectives:\\nTo introduce programming through Visual programming tool - Scratch\\nTo teach problem solving through Flow charting tool - Raptor\\nTo elucidate problem solving through python programming language\\nTo introduce  function-oriented programming paradigm through python\\nTo train in development of  solutions using modular concepts\\nTo teach practical Pythonic solution patterns\\n'"
      ]
     },
     "execution_count": 24,
     "metadata": {},
     "output_type": "execute_result"
    }
   ],
   "source": [
    "# Define a function to read file data for a given file\n",
    "def readfile(filename):\n",
    "    f = open(filename,'r')\n",
    "    filedata = f.read()\n",
    "    f.close()\n",
    "    return filedata\n",
    "filename = 'datafiles/data.txt'\n",
    "readfile(filename)\n",
    "#Entire file data is stored in a one single variable"
   ]
  },
  {
   "cell_type": "code",
   "execution_count": 8,
   "metadata": {},
   "outputs": [
    {
     "data": {
      "text/plain": [
       "['\\n',\n",
       " 'Course Objectives:\\n',\n",
       " 'To introduce programming through Visual programming tool - Scratch\\n',\n",
       " 'To teach problem solving through Flow charting tool - Raptor\\n',\n",
       " 'To elucidate problem solving through python programming language\\n',\n",
       " 'To introduce  function-oriented programming paradigm through python\\n',\n",
       " 'To train in development of  solutions using modular concepts\\n',\n",
       " 'To teach practical Pythonic solution patterns\\n']"
      ]
     },
     "execution_count": 8,
     "metadata": {},
     "output_type": "execute_result"
    }
   ],
   "source": [
    "def readfile(filename):\n",
    "    f = open(filename,'r')\n",
    "    filedata = f.readlines()# returns a list of lines in the file\n",
    "    f.close()\n",
    "    return filedata\n",
    "filename = 'datafiles/data.txt'\n",
    "readfile(filename)\n",
    "#Entire file data is stored in a one single variable"
   ]
  },
  {
   "cell_type": "code",
   "execution_count": 9,
   "metadata": {},
   "outputs": [
    {
     "data": {
      "text/plain": [
       "47"
      ]
     },
     "execution_count": 9,
     "metadata": {},
     "output_type": "execute_result"
    }
   ],
   "source": [
    "import re\n",
    "def readfile(filename):\n",
    "    f = open(filename,'r')\n",
    "    filedata = f.read()# returns a list of lines in the file\n",
    "    f.close()\n",
    "    return filedata\n",
    "filename = 'datafiles/data.txt'\n",
    "len(re.split('\\ ', readfile(filename)))#No.of words"
   ]
  },
  {
   "cell_type": "code",
   "execution_count": 22,
   "metadata": {},
   "outputs": [
    {
     "data": {
      "text/plain": [
       "['\\nCourse',\n",
       " 'Objectives:\\nTo',\n",
       " 'introduce',\n",
       " 'programming',\n",
       " 'through',\n",
       " 'Visual',\n",
       " 'programming',\n",
       " 'tool',\n",
       " '-',\n",
       " 'Scratch\\nTo',\n",
       " 'teach',\n",
       " 'problem',\n",
       " 'solving',\n",
       " 'through',\n",
       " 'Flow',\n",
       " 'charting',\n",
       " 'tool',\n",
       " '-',\n",
       " 'Raptor\\nTo',\n",
       " 'elucidate',\n",
       " 'problem',\n",
       " 'solving',\n",
       " 'through',\n",
       " 'python',\n",
       " 'programming',\n",
       " 'language\\nTo',\n",
       " 'introduce',\n",
       " '',\n",
       " 'function-oriented',\n",
       " 'programming',\n",
       " 'paradigm',\n",
       " 'through',\n",
       " 'python\\nTo',\n",
       " 'train',\n",
       " 'in',\n",
       " 'development',\n",
       " 'of',\n",
       " '',\n",
       " 'solutions',\n",
       " 'using',\n",
       " 'modular',\n",
       " 'concepts\\nTo',\n",
       " 'teach',\n",
       " 'practical',\n",
       " 'Pythonic',\n",
       " 'solution',\n",
       " 'patterns\\n']"
      ]
     },
     "execution_count": 22,
     "metadata": {},
     "output_type": "execute_result"
    }
   ],
   "source": [
    "import re\n",
    "def readfile(filename):\n",
    "    f = open(filename,'r')\n",
    "    filedata = f.read()# returns a list of lines in the file\n",
    "    f.close()\n",
    "    return filedata\n",
    "filename = 'datafiles/data.txt'\n",
    "wordlist = re.split('\\ ',readfile(filename))\n",
    "wordlist"
   ]
  },
  {
   "cell_type": "markdown",
   "metadata": {},
   "source": [
    "Frequency of Data\n",
    "1. Unique Data in the form of a Dictionary\n",
    "        {'To':0,'intoduce':0.........}\n",
    "2. Calculate the frequency for all keys in the dictionary\n",
    "        For Every key in dictionary:\n",
    "            count the number of times the key is repeating in the data\n",
    "        Assign the count of each key to the corresponding dictionary values\n",
    "\n",
    "\n"
   ]
  },
  {
   "cell_type": "code",
   "execution_count": 26,
   "metadata": {},
   "outputs": [
    {
     "data": {
      "text/plain": [
       "{'\\nCourse': 1,\n",
       " 'Objectives:\\nTo': 1,\n",
       " 'introduce': 2,\n",
       " 'programming': 4,\n",
       " 'through': 4,\n",
       " 'Visual': 1,\n",
       " 'tool': 2,\n",
       " '-': 3,\n",
       " 'Scratch\\nTo': 1,\n",
       " 'teach': 2,\n",
       " 'problem': 2,\n",
       " 'solving': 2,\n",
       " 'Flow': 1,\n",
       " 'charting': 1,\n",
       " 'Raptor\\nTo': 1,\n",
       " 'elucidate': 1,\n",
       " 'python': 2,\n",
       " 'language\\nTo': 1,\n",
       " '': 389,\n",
       " 'function-oriented': 1,\n",
       " 'paradigm': 1,\n",
       " 'python\\nTo': 1,\n",
       " 'train': 1,\n",
       " 'in': 12,\n",
       " 'development': 1,\n",
       " 'of': 1,\n",
       " 'solutions': 1,\n",
       " 'using': 1,\n",
       " 'modular': 1,\n",
       " 'concepts\\nTo': 1,\n",
       " 'practical': 1,\n",
       " 'Pythonic': 1,\n",
       " 'solution': 2,\n",
       " 'patterns\\n': 1}"
      ]
     },
     "execution_count": 26,
     "metadata": {},
     "output_type": "execute_result"
    }
   ],
   "source": [
    "def extractUniqueWords(filename):\n",
    "    filedata = readfile(filename)\n",
    "    wordlist = re.split('\\ ', filedata)\n",
    "    uniqueWords ={}\n",
    "    for word in wordlist:\n",
    "        if word not in uniqueWords.keys():\n",
    "            uniqueWords[word] = 1\n",
    "    return uniqueWords\n",
    "\n",
    "filename = 'datafiles/data.txt'\n",
    "uniqueWords = extractUniqueWords(filename)\n",
    "    \n",
    "#Function to calculate the frequency of words \n",
    "\n",
    "def frequencyTable(data,uniquedata):\n",
    "    for word in uniquedata.keys():\n",
    "        uniquedata[word] = len(re.findall(word,data))\n",
    "    return uniquedata\n",
    "\n",
    "filedata = readfile(filename)\n",
    "frequencyTable(filedata,uniqueWords)\n",
    "\n",
    "    \n"
   ]
  },
  {
   "cell_type": "code",
   "execution_count": null,
   "metadata": {},
   "outputs": [],
   "source": []
  }
 ],
 "metadata": {
  "kernelspec": {
   "display_name": "Python 3",
   "language": "python",
   "name": "python3"
  },
  "language_info": {
   "codemirror_mode": {
    "name": "ipython",
    "version": 3
   },
   "file_extension": ".py",
   "mimetype": "text/x-python",
   "name": "python",
   "nbconvert_exporter": "python",
   "pygments_lexer": "ipython3",
   "version": "3.7.3"
  }
 },
 "nbformat": 4,
 "nbformat_minor": 2
}
